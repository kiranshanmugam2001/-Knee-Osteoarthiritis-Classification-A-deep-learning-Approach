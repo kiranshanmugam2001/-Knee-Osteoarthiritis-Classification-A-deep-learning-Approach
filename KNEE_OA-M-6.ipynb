{
 "cells": [
  {
   "cell_type": "code",
   "execution_count": 1,
   "id": "a36f839f-6fb9-4418-ae17-72d29a76c80b",
   "metadata": {},
   "outputs": [
    {
     "name": "stdout",
     "output_type": "stream",
     "text": [
      "WARNING:tensorflow:From C:\\Users\\haris\\anaconda3\\Lib\\site-packages\\keras\\src\\losses.py:2976: The name tf.losses.sparse_softmax_cross_entropy is deprecated. Please use tf.compat.v1.losses.sparse_softmax_cross_entropy instead.\n",
      "\n"
     ]
    }
   ],
   "source": [
    "import os\n",
    "import timeit\n",
    "\n",
    "import matplotlib.pyplot as plt\n",
    "import numpy as np\n",
    "import seaborn as sns\n",
    "import tensorflow as tf\n",
    "from sklearn.metrics import (accuracy_score, balanced_accuracy_score,\n",
    "                             classification_report, confusion_matrix)\n",
    "from sklearn.utils.class_weight import compute_class_weight"
   ]
  },
  {
   "cell_type": "code",
   "execution_count": 2,
   "id": "056eda2b-ac33-4e2d-a1a7-c0a4c5f241c4",
   "metadata": {},
   "outputs": [],
   "source": [
    "np.random.seed(12049)"
   ]
  },
  {
   "cell_type": "code",
   "execution_count": 13,
   "id": "c4e28d2b-6ddb-4a89-a52f-bc0dd96b8070",
   "metadata": {},
   "outputs": [],
   "source": [
    "def get_plot_loss_acc(model, model_name):\n",
    "    fig = plt.figure()\n",
    "    plt.subplot(2, 1, 1)\n",
    "    plt.plot(model.history.history[\"loss\"])\n",
    "    plt.plot(model.history.history[\"val_loss\"])\n",
    "    plt.title(f\"{model_name} \\n\\n model loss\")\n",
    "    plt.ylabel(\"loss\")\n",
    "    plt.xlabel(\"epoch\")\n",
    "    plt.legend([\"train\", \"valid\"], loc=\"upper right\")\n",
    "\n",
    "    plt.subplot(2, 1, 2)\n",
    "    plt.plot(model.history.history[\"accuracy\"])\n",
    "    plt.plot(model.history.history[\"val_accuracy\"])\n",
    "    plt.title(\"model accuracy\")\n",
    "    plt.ylabel(\"accuracy\")\n",
    "    plt.xlabel(\"epoch\")\n",
    "    plt.legend([\"train\", \"valid\"], loc=\"lower right\")\n",
    "\n",
    "    plt.tight_layout()\n",
    "\n",
    "\n",
    "def compute_confusion_matrix(\n",
    "    ytrue, ypred, class_names, model_name\n",
    "):\n",
    "    cm = confusion_matrix(\n",
    "        y_true=ytrue.labels,\n",
    "        y_pred=np.argmax(ypred, axis=1),\n",
    "    )\n",
    "\n",
    "    cmn = cm.astype(\"float\") / cm.sum(axis=1)[:, np.newaxis]\n",
    "    plt.subplots(figsize=(6, 5))\n",
    "    sns.heatmap(\n",
    "        cmn,\n",
    "        annot=True,\n",
    "        fmt=\".2f\",\n",
    "        cmap=\"Purples\",\n",
    "        xticklabels=class_names,\n",
    "        yticklabels=class_names,\n",
    "    )\n",
    "    plt.title(f\"Confusion Matrix - {model_name}\")\n",
    "    plt.ylabel(\"Actual\")\n",
    "    plt.xlabel(\"Predicted\")\n",
    "    plt.show(block=False)\n",
    "\n",
    "\n",
    "def get_evaluate(data, name, model):\n",
    "    score_model = model.evaluate(data, verbose=1)\n",
    "    print(f\"{name} loss: {score_model[0]:.2f}\")\n",
    "    print(f\"{name} accuracy: {score_model[1]:.2f}\")\n",
    "\n",
    "\n",
    "def get_predict(data, model):\n",
    "    predict_model = model.predict(data)\n",
    "    return predict_model\n",
    "    \n",
    "def get_metrics(y_test, y_pred, model_name):\n",
    "    acc = accuracy_score(y_test, y_pred)\n",
    "    bal_acc = balanced_accuracy_score(y_test, y_pred)\n",
    "\n",
    "    print(f\"Accuracy Score - {model_name}: {acc:.2f}\")\n",
    "    print(f\"Balanced Accuracy Score - {model_name}: {bal_acc:.2f}\")\n",
    "    print(\"\\n\")\n",
    "\n",
    "    print(classification_report(y_test, y_pred))    \n",
    "    "
   ]
  },
  {
   "cell_type": "code",
   "execution_count": 14,
   "id": "61d77c78-3334-49f1-af2d-5c4dccb693fb",
   "metadata": {},
   "outputs": [],
   "source": [
    "base_dir = \"C:/Users/haris/Downloads/KNEE_OA/Dataset\"\n",
    "train_path = os.path.join(base_dir, 'train')\n",
    "valid_path = os.path.join(base_dir, 'val')\n",
    "test_path = os.path.join(base_dir, 'test')"
   ]
  },
  {
   "cell_type": "code",
   "execution_count": 15,
   "id": "5ea6d22a-b363-4ef1-8d88-c0ea01a06283",
   "metadata": {},
   "outputs": [],
   "source": [
    "model_name = \"EfficientNet\"\n",
    "class_names = ['Healthy', 'Doubtful', 'Minimal', 'Moderate', 'Severe']\n",
    "\n",
    "target_size = (224, 224)\n",
    "epochs = 10\n",
    "batch_size = 128\n",
    "img_shape = (224, 224, 3)\n",
    "\n",
    "# Save model\n",
    "save_model_ft = os.path.join('models', f'model_{model_name}_ft.hdf5')"
   ]
  },
  {
   "cell_type": "code",
   "execution_count": 16,
   "id": "50b6e2de-3176-417d-9b2c-3e54b8df0461",
   "metadata": {},
   "outputs": [],
   "source": [
    "aug_datagen = tf.keras.preprocessing.image.ImageDataGenerator(\n",
    "    preprocessing_function=tf.keras.applications.resnet50.preprocess_input,\n",
    "    horizontal_flip=True,\n",
    "    brightness_range=[0.3, 0.8],\n",
    "    width_shift_range=[-50, 0, 50, 30, -30],\n",
    "    zoom_range=0.1,\n",
    "    fill_mode=\"nearest\",\n",
    ")\n",
    "\n",
    "noaug_datagen = tf.keras.preprocessing.image.ImageDataGenerator(\n",
    "    preprocessing_function=tf.keras.applications.resnet50.preprocess_input,\n",
    ")"
   ]
  },
  {
   "cell_type": "code",
   "execution_count": 17,
   "id": "0b6ce422-4fad-4893-bbd0-834262549aac",
   "metadata": {},
   "outputs": [
    {
     "name": "stdout",
     "output_type": "stream",
     "text": [
      "Found 5778 images belonging to 5 classes.\n",
      "Found 826 images belonging to 5 classes.\n"
     ]
    }
   ],
   "source": [
    "train_generator = aug_datagen.flow_from_directory(\n",
    "    train_path, class_mode=\"categorical\", target_size=target_size, shuffle=True\n",
    ")\n",
    "\n",
    "valid_generator = noaug_datagen.flow_from_directory(\n",
    "    valid_path,\n",
    "    class_mode=\"categorical\",\n",
    "    target_size=target_size,\n",
    "    shuffle=False,\n",
    ")"
   ]
  },
  {
   "cell_type": "code",
   "execution_count": 18,
   "id": "4404ea2d-ef45-4522-bbf7-b58fa81ba624",
   "metadata": {},
   "outputs": [],
   "source": [
    "y_train = train_generator.labels\n",
    "y_val = valid_generator.labels"
   ]
  },
  {
   "cell_type": "code",
   "execution_count": 19,
   "id": "702468de-155b-4ed6-aa3a-dbaf350a4e2a",
   "metadata": {},
   "outputs": [
    {
     "name": "stdout",
     "output_type": "stream",
     "text": [
      "Train:  {0: 2286, 1: 1046, 2: 1516, 3: 757, 4: 173}\n",
      "{0: 0.5055118110236221, 1: 1.1047801147227534, 2: 0.7622691292875989, 3: 1.5265521796565389, 4: 6.679768786127168}\n"
     ]
    }
   ],
   "source": [
    "unique, counts = np.unique(y_train, return_counts=True)\n",
    "print(\"Train: \", dict(zip(unique, counts)))\n",
    "\n",
    "class_weights = compute_class_weight(\n",
    "    class_weight=\"balanced\", classes=np.unique(y_train), y=y_train\n",
    ")\n",
    "train_class_weights = dict(enumerate(class_weights))\n",
    "print(train_class_weights)"
   ]
  },
  {
   "cell_type": "code",
   "execution_count": 20,
   "id": "c393c032-53ed-4cfb-bacb-a12a7370b623",
   "metadata": {},
   "outputs": [],
   "source": [
    "classes = np.unique(y_train)\n",
    "\n",
    "# Callbacks\n",
    "early = tf.keras.callbacks.EarlyStopping(\n",
    "            monitor='val_loss', min_delta=0.01, patience=8,\n",
    "            restore_best_weights=True\n",
    "        )\n",
    "plateau = tf.keras.callbacks.ReduceLROnPlateau(\n",
    "                monitor='loss', factor=0.1, min_delta=0.01, \n",
    "                min_lr=1e-10, patience=4, mode='auto'\n",
    "            )"
   ]
  },
  {
   "cell_type": "code",
   "execution_count": 21,
   "id": "e9d6ec09-f465-47d7-af6e-ba0360eb6c32",
   "metadata": {},
   "outputs": [
    {
     "name": "stdout",
     "output_type": "stream",
     "text": [
      "WARNING:tensorflow:From C:\\Users\\haris\\anaconda3\\Lib\\site-packages\\keras\\src\\backend.py:1398: The name tf.executing_eagerly_outside_functions is deprecated. Please use tf.compat.v1.executing_eagerly_outside_functions instead.\n",
      "\n",
      "WARNING:tensorflow:From C:\\Users\\haris\\anaconda3\\Lib\\site-packages\\keras\\src\\layers\\normalization\\batch_normalization.py:979: The name tf.nn.fused_batch_norm is deprecated. Please use tf.compat.v1.nn.fused_batch_norm instead.\n",
      "\n"
     ]
    }
   ],
   "source": [
    "model = tf.keras.applications.xception.Xception(\n",
    "    input_shape=(img_shape),\n",
    "    include_top=False,\n",
    "    weights=\"imagenet\",\n",
    ")"
   ]
  },
  {
   "cell_type": "code",
   "execution_count": 22,
   "id": "15667a5e-5312-4ec3-be8e-3a929c66c542",
   "metadata": {},
   "outputs": [
    {
     "name": "stdout",
     "output_type": "stream",
     "text": [
      "Model: \"sequential\"\n",
      "_________________________________________________________________\n",
      " Layer (type)                Output Shape              Param #   \n",
      "=================================================================\n",
      " xception (Functional)       (None, 7, 7, 2048)        20861480  \n",
      "                                                                 \n",
      " global_average_pooling2d (  (None, 2048)              0         \n",
      " GlobalAveragePooling2D)                                         \n",
      "                                                                 \n",
      " dropout (Dropout)           (None, 2048)              0         \n",
      "                                                                 \n",
      " dense (Dense)               (None, 5)                 10245     \n",
      "                                                                 \n",
      "=================================================================\n",
      "Total params: 20871725 (79.62 MB)\n",
      "Trainable params: 20817197 (79.41 MB)\n",
      "Non-trainable params: 54528 (213.00 KB)\n",
      "_________________________________________________________________\n"
     ]
    }
   ],
   "source": [
    "for layer in model.layers:\n",
    "    layer.trainable = True\n",
    "\n",
    "model_ft = tf.keras.models.Sequential(\n",
    "    [\n",
    "        model,\n",
    "        tf.keras.layers.GlobalAveragePooling2D(),\n",
    "        tf.keras.layers.Dropout(0.2),\n",
    "        tf.keras.layers.Dense(5, activation=\"softmax\"),\n",
    "    ]\n",
    ")\n",
    "\n",
    "model_ft.summary()"
   ]
  },
  {
   "cell_type": "code",
   "execution_count": 23,
   "id": "31650f24-c002-4016-9593-8323f346b5b4",
   "metadata": {},
   "outputs": [
    {
     "name": "stdout",
     "output_type": "stream",
     "text": [
      "WARNING:tensorflow:From C:\\Users\\haris\\anaconda3\\Lib\\site-packages\\keras\\src\\optimizers\\__init__.py:309: The name tf.train.Optimizer is deprecated. Please use tf.compat.v1.train.Optimizer instead.\n",
      "\n",
      "Epoch 1/10\n",
      "WARNING:tensorflow:From C:\\Users\\haris\\anaconda3\\Lib\\site-packages\\keras\\src\\utils\\tf_utils.py:492: The name tf.ragged.RaggedTensorValue is deprecated. Please use tf.compat.v1.ragged.RaggedTensorValue instead.\n",
      "\n",
      "WARNING:tensorflow:From C:\\Users\\haris\\anaconda3\\Lib\\site-packages\\keras\\src\\engine\\base_layer_utils.py:384: The name tf.executing_eagerly_outside_functions is deprecated. Please use tf.compat.v1.executing_eagerly_outside_functions instead.\n",
      "\n",
      "181/181 [==============================] - 757s 4s/step - loss: 1.2627 - accuracy: 0.3785 - val_loss: 4.2258 - val_accuracy: 0.4383 - lr: 0.0010\n",
      "Epoch 2/10\n",
      "181/181 [==============================] - 734s 4s/step - loss: 1.0118 - accuracy: 0.4957 - val_loss: 1.4205 - val_accuracy: 0.5169 - lr: 0.0010\n",
      "Epoch 3/10\n",
      "181/181 [==============================] - 749s 4s/step - loss: 0.9045 - accuracy: 0.5355 - val_loss: 2.0414 - val_accuracy: 0.4407 - lr: 0.0010\n",
      "Epoch 4/10\n",
      "181/181 [==============================] - 1464s 8s/step - loss: 0.8363 - accuracy: 0.5597 - val_loss: 1.8810 - val_accuracy: 0.4419 - lr: 0.0010\n",
      "Epoch 5/10\n",
      "181/181 [==============================] - 697s 4s/step - loss: 0.8098 - accuracy: 0.5858 - val_loss: 1.4604 - val_accuracy: 0.4770 - lr: 0.0010\n",
      "Epoch 6/10\n",
      "181/181 [==============================] - 721s 4s/step - loss: 0.7557 - accuracy: 0.6172 - val_loss: 0.9444 - val_accuracy: 0.6162 - lr: 0.0010\n",
      "Epoch 7/10\n",
      "181/181 [==============================] - 686s 4s/step - loss: 0.7225 - accuracy: 0.6310 - val_loss: 1.2142 - val_accuracy: 0.5230 - lr: 0.0010\n",
      "Epoch 8/10\n",
      "181/181 [==============================] - 683s 4s/step - loss: 0.7077 - accuracy: 0.6310 - val_loss: 1.1402 - val_accuracy: 0.5484 - lr: 0.0010\n",
      "Epoch 9/10\n",
      "181/181 [==============================] - 685s 4s/step - loss: 0.6779 - accuracy: 0.6514 - val_loss: 0.9487 - val_accuracy: 0.6053 - lr: 0.0010\n",
      "Epoch 10/10\n",
      "181/181 [==============================] - 682s 4s/step - loss: 0.6924 - accuracy: 0.6426 - val_loss: 0.9897 - val_accuracy: 0.4843 - lr: 0.0010\n"
     ]
    }
   ],
   "source": [
    "model_ft.compile(\n",
    "    optimizer=\"adam\", loss=\"categorical_crossentropy\", metrics=[\"accuracy\"]\n",
    ")\n",
    "\n",
    "start_ft = timeit.default_timer()\n",
    "\n",
    "history = model_ft.fit(\n",
    "    train_generator,\n",
    "    epochs=epochs,\n",
    "    batch_size=batch_size,\n",
    "    callbacks=[early, plateau],\n",
    "    validation_data=valid_generator,\n",
    "    class_weight=train_class_weights,\n",
    "    verbose=1,\n",
    ")\n",
    "\n",
    "stop_ft = timeit.default_timer()"
   ]
  },
  {
   "cell_type": "code",
   "execution_count": 24,
   "id": "28d40bc5-ebf0-409c-8355-1f89b4b41e57",
   "metadata": {},
   "outputs": [
    {
     "name": "stdout",
     "output_type": "stream",
     "text": [
      "Model EfficientNet fine tuning executed in 131.08 minutes\n"
     ]
    }
   ],
   "source": [
    "execution_time_ft = (stop_ft - start_ft) / 60\n",
    "print(\n",
    "    f\"Model {model_name} fine tuning executed in {execution_time_ft:.2f} minutes\"\n",
    ")"
   ]
  },
  {
   "cell_type": "code",
   "execution_count": 25,
   "id": "5af63509-1299-4ff9-bbe6-1dc9fa9e90c8",
   "metadata": {},
   "outputs": [
    {
     "name": "stderr",
     "output_type": "stream",
     "text": [
      "C:\\Users\\haris\\anaconda3\\Lib\\site-packages\\keras\\src\\engine\\training.py:3103: UserWarning: You are saving your model as an HDF5 file via `model.save()`. This file format is considered legacy. We recommend using instead the native Keras format, e.g. `model.save('my_model.keras')`.\n",
      "  saving_api.save_model(\n"
     ]
    }
   ],
   "source": [
    "model_ft.save(save_model_ft)"
   ]
  },
  {
   "cell_type": "code",
   "execution_count": 26,
   "id": "a5b5feaf-9fcf-4e64-9440-8b634f109c14",
   "metadata": {},
   "outputs": [
    {
     "data": {
      "image/png": "[encoded data removed]",
      "text/plain": [
       "<Figure size 640x480 with 2 Axes>"
      ]
     },
     "metadata": {},
     "output_type": "display_data"
    }
   ],
   "source": [
    "get_plot_loss_acc(model_ft, f\"{model_name} Fine Tuning\")"
   ]
  },
  {
   "cell_type": "code",
   "execution_count": 28,
   "id": "97782a80-e3fb-4387-b836-1eb152ae2cc2",
   "metadata": {},
   "outputs": [
    {
     "name": "stdout",
     "output_type": "stream",
     "text": [
      "26/26 [==============================] - 24s 903ms/step - loss: 0.9897 - accuracy: 0.4843\n",
      "Valid loss: 0.99\n",
      "Valid accuracy: 0.48\n"
     ]
    }
   ],
   "source": [
    "get_evaluate(valid_generator, \"Valid\", model_ft)"
   ]
  },
  {
   "cell_type": "code",
   "execution_count": 29,
   "id": "d65d70ce-2b22-48b2-9bcb-655f13606904",
   "metadata": {},
   "outputs": [
    {
     "name": "stdout",
     "output_type": "stream",
     "text": [
      "26/26 [==============================] - 25s 921ms/step\n",
      "Accuracy Score - EfficientNet: 0.48\n",
      "Balanced Accuracy Score - EfficientNet: 0.59\n",
      "\n",
      "\n",
      "              precision    recall  f1-score   support\n",
      "\n",
      "           0       0.76      0.33      0.46       328\n",
      "           1       0.25      0.56      0.35       153\n",
      "           2       0.54      0.62      0.58       212\n",
      "           3       0.69      0.45      0.55       106\n",
      "           4       0.76      0.96      0.85        27\n",
      "\n",
      "    accuracy                           0.48       826\n",
      "   macro avg       0.60      0.59      0.56       826\n",
      "weighted avg       0.60      0.48      0.49       826\n",
      "\n"
     ]
    }
   ],
   "source": [
    "predict_model_ft = get_predict(valid_generator, model_ft)\n",
    "\n",
    "get_metrics(\n",
    "    valid_generator.labels,\n",
    "    y_pred=np.argmax(predict_model_ft, axis=1),\n",
    "    model_name=model_name,\n",
    ")"
   ]
  },
  {
   "cell_type": "code",
   "execution_count": 30,
   "id": "940c93cd-5b7a-4870-8693-cdccb0a21807",
   "metadata": {},
   "outputs": [
    {
     "data": {
      "image/png": "[encoded data removed]",
      "text/plain": [
       "<Figure size 600x500 with 2 Axes>"
      ]
     },
     "metadata": {},
     "output_type": "display_data"
    }
   ],
   "source": [
    "compute_confusion_matrix(\n",
    "    valid_generator, predict_model_ft, class_names, f\"{model_name} Fine Tuning\"\n",
    ")"
   ]
  },
  {
   "cell_type": "code",
   "execution_count": null,
   "id": "37bf11c9-9e63-447e-8d48-f8259d041af3",
   "metadata": {},
   "outputs": [],
   "source": []
  }
 ],
 "metadata": {
  "kernelspec": {
   "display_name": "Python 3 (ipykernel)",
   "language": "python",
   "name": "python3"
  },
  "language_info": {
   "codemirror_mode": {
    "name": "ipython",
    "version": 3
   },
   "file_extension": ".py",
   "mimetype": "text/x-python",
   "name": "python",
   "nbconvert_exporter": "python",
   "pygments_lexer": "ipython3",
   "version": "3.11.7"
  }
 },
 "nbformat": 4,
 "nbformat_minor": 5
}
