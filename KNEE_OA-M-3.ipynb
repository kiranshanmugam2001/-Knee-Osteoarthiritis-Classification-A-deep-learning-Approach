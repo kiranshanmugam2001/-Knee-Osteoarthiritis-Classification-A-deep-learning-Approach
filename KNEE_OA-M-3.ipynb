{
 "cells": [
  {
   "cell_type": "code",
   "execution_count": 1,
   "id": "f6b25592-2143-432a-8f81-342c52784149",
   "metadata": {},
   "outputs": [
    {
     "name": "stdout",
     "output_type": "stream",
     "text": [
      "WARNING:tensorflow:From C:\\Users\\haris\\anaconda3\\Lib\\site-packages\\keras\\src\\losses.py:2976: The name tf.losses.sparse_softmax_cross_entropy is deprecated. Please use tf.compat.v1.losses.sparse_softmax_cross_entropy instead.\n",
      "\n"
     ]
    }
   ],
   "source": [
    "import os\n",
    "import timeit\n",
    "\n",
    "import matplotlib.pyplot as plt\n",
    "import numpy as np\n",
    "import seaborn as sns\n",
    "import tensorflow as tf\n",
    "from sklearn.metrics import (accuracy_score, balanced_accuracy_score,\n",
    "                             classification_report, confusion_matrix)\n",
    "from sklearn.utils.class_weight import compute_class_weight"
   ]
  },
  {
   "cell_type": "code",
   "execution_count": 2,
   "id": "ea547776-ab85-4128-8919-93af69bc0056",
   "metadata": {},
   "outputs": [],
   "source": [
    "np.random.seed(12049)"
   ]
  },
  {
   "cell_type": "code",
   "execution_count": 3,
   "id": "e0c258b8-ae01-4b2d-bd18-7ef4ccc3fc27",
   "metadata": {},
   "outputs": [],
   "source": [
    "def get_plot_loss_acc(model, model_name):\n",
    "    fig = plt.figure()\n",
    "    plt.subplot(2, 1, 1)\n",
    "    plt.plot(model.history.history[\"loss\"])\n",
    "    plt.plot(model.history.history[\"val_loss\"])\n",
    "    plt.title(f\"{model_name} \\n\\n model loss\")\n",
    "    plt.ylabel(\"loss\")\n",
    "    plt.xlabel(\"epoch\")\n",
    "    plt.legend([\"train\", \"valid\"], loc=\"upper right\")\n",
    "\n",
    "    plt.subplot(2, 1, 2)\n",
    "    plt.plot(model.history.history[\"accuracy\"])\n",
    "    plt.plot(model.history.history[\"val_accuracy\"])\n",
    "    plt.title(\"model accuracy\")\n",
    "    plt.ylabel(\"accuracy\")\n",
    "    plt.xlabel(\"epoch\")\n",
    "    plt.legend([\"train\", \"valid\"], loc=\"lower right\")\n",
    "\n",
    "    plt.tight_layout()\n",
    "\n",
    "\n",
    "def compute_confusion_matrix(\n",
    "    ytrue, ypred, class_names, model_name\n",
    "):\n",
    "    cm = confusion_matrix(\n",
    "        y_true=ytrue.labels,\n",
    "        y_pred=np.argmax(ypred, axis=1),\n",
    "    )\n",
    "\n",
    "    cmn = cm.astype(\"float\") / cm.sum(axis=1)[:, np.newaxis]\n",
    "    plt.subplots(figsize=(6, 5))\n",
    "    sns.heatmap(\n",
    "        cmn,\n",
    "        annot=True,\n",
    "        fmt=\".2f\",\n",
    "        cmap=\"Purples\",\n",
    "        xticklabels=class_names,\n",
    "        yticklabels=class_names,\n",
    "    )\n",
    "    plt.title(f\"Confusion Matrix - {model_name}\")\n",
    "    plt.ylabel(\"Actual\")\n",
    "    plt.xlabel(\"Predicted\")\n",
    "    plt.show(block=False)\n",
    "\n",
    "\n",
    "def get_evaluate(data, name, model):\n",
    "    score_model = model.evaluate(data, verbose=1)\n",
    "    print(f\"{name} loss: {score_model[0]:.2f}\")\n",
    "    print(f\"{name} accuracy: {score_model[1]:.2f}\")\n",
    "\n",
    "\n",
    "def get_predict(data, model):\n",
    "    predict_model = model.predict(data)\n",
    "    return predict_model\n",
    "\n",
    "\n",
    "def get_metrics(y_test, y_pred, model_name):\n",
    "    acc = accuracy_score(y_test, y_pred)\n",
    "    bal_acc = balanced_accuracy_score(y_test, y_pred)\n",
    "\n",
    "    print(f\"Accuracy Score - {model_name}: {acc:.2f}\")\n",
    "    print(f\"Balanced Accuracy Score - {model_name}: {bal_acc:.2f}\")\n",
    "    print(\"\\n\")\n",
    "\n",
    "    print(classification_report(y_test, y_pred))"
   ]
  },
  {
   "cell_type": "code",
   "execution_count": 4,
   "id": "9b345781-dee2-4302-8782-74578abb9d93",
   "metadata": {},
   "outputs": [],
   "source": [
    "base_dir = \"C:/Users/haris/Downloads/KNEE_OA/Dataset\"\n",
    "train_path = os.path.join(base_dir, 'train')\n",
    "valid_path = os.path.join(base_dir, 'val')\n",
    "test_path = os.path.join(base_dir, 'test')"
   ]
  },
  {
   "cell_type": "code",
   "execution_count": 5,
   "id": "c3d19156-a9ea-4e26-aab6-06fabd1e76b9",
   "metadata": {},
   "outputs": [],
   "source": [
    "model_name = \"Xception\"\n",
    "class_names = ['Healthy', 'Doubtful', 'Minimal', 'Moderate', 'Severe']\n",
    "\n",
    "target_size = (224, 224)\n",
    "epochs = 10\n",
    "batch_size = 128\n",
    "img_shape = (224, 224, 3)\n",
    "\n",
    "# Save model\n",
    "save_model_ft = os.path.join('models', f'model_{model_name}_ft.hdf5')"
   ]
  },
  {
   "cell_type": "code",
   "execution_count": 6,
   "id": "cd681069-4c0a-4d22-938d-9a898202bbbd",
   "metadata": {},
   "outputs": [
    {
     "name": "stdout",
     "output_type": "stream",
     "text": [
      "Found 5778 images belonging to 5 classes.\n",
      "Found 826 images belonging to 5 classes.\n"
     ]
    }
   ],
   "source": [
    "aug_datagen = tf.keras.preprocessing.image.ImageDataGenerator(\n",
    "    preprocessing_function=tf.keras.applications.xception.preprocess_input,\n",
    "    horizontal_flip=True,\n",
    "    brightness_range=[0.3, 0.8],\n",
    "    width_shift_range=[-50, 0, 50, 30, -30],\n",
    "    zoom_range=0.1,\n",
    "    fill_mode=\"nearest\",\n",
    ")\n",
    "\n",
    "noaug_datagen = tf.keras.preprocessing.image.ImageDataGenerator(\n",
    "    preprocessing_function=tf.keras.applications.xception.preprocess_input,\n",
    ")\n",
    "train_generator = aug_datagen.flow_from_directory(\n",
    "    train_path, class_mode=\"categorical\", target_size=target_size, shuffle=True\n",
    ")\n",
    "\n",
    "valid_generator = noaug_datagen.flow_from_directory(\n",
    "    valid_path,\n",
    "    class_mode=\"categorical\",\n",
    "    target_size=target_size,\n",
    "    shuffle=False,\n",
    ")"
   ]
  },
  {
   "cell_type": "code",
   "execution_count": 7,
   "id": "70bdb39f-9f9f-46f3-b31c-a4656ed481e5",
   "metadata": {},
   "outputs": [],
   "source": [
    "y_train = train_generator.labels\n",
    "y_val = valid_generator.labels"
   ]
  },
  {
   "cell_type": "code",
   "execution_count": 8,
   "id": "308962e3-4b9f-4296-86c0-bf1896577b9b",
   "metadata": {},
   "outputs": [
    {
     "name": "stdout",
     "output_type": "stream",
     "text": [
      "Train:  {0: 2286, 1: 1046, 2: 1516, 3: 757, 4: 173}\n",
      "{0: 0.5055118110236221, 1: 1.1047801147227534, 2: 0.7622691292875989, 3: 1.5265521796565389, 4: 6.679768786127168}\n"
     ]
    }
   ],
   "source": [
    "unique, counts = np.unique(y_train, return_counts=True)\n",
    "print(\"Train: \", dict(zip(unique, counts)))\n",
    "\n",
    "class_weights = compute_class_weight(\n",
    "    class_weight=\"balanced\", classes=np.unique(y_train), y=y_train\n",
    ")\n",
    "train_class_weights = dict(enumerate(class_weights))\n",
    "print(train_class_weights)"
   ]
  },
  {
   "cell_type": "code",
   "execution_count": 9,
   "id": "500d3d90-a1d2-41e4-b954-309f2b0ae8ac",
   "metadata": {},
   "outputs": [],
   "source": [
    "classes = np.unique(y_train)\n",
    "\n",
    "# Callbacks\n",
    "early = tf.keras.callbacks.EarlyStopping(\n",
    "            monitor='val_loss', min_delta=0.01, patience=8,\n",
    "            restore_best_weights=True\n",
    "        )\n",
    "plateau = tf.keras.callbacks.ReduceLROnPlateau(\n",
    "                monitor='loss', factor=0.1, min_delta=0.01, \n",
    "                min_lr=1e-10, patience=4, mode='auto'\n",
    "            )"
   ]
  },
  {
   "cell_type": "code",
   "execution_count": 10,
   "id": "fc7d9711-db90-45e7-8903-e15810025173",
   "metadata": {},
   "outputs": [
    {
     "name": "stdout",
     "output_type": "stream",
     "text": [
      "WARNING:tensorflow:From C:\\Users\\haris\\anaconda3\\Lib\\site-packages\\keras\\src\\backend.py:1398: The name tf.executing_eagerly_outside_functions is deprecated. Please use tf.compat.v1.executing_eagerly_outside_functions instead.\n",
      "\n",
      "WARNING:tensorflow:From C:\\Users\\haris\\anaconda3\\Lib\\site-packages\\keras\\src\\layers\\normalization\\batch_normalization.py:979: The name tf.nn.fused_batch_norm is deprecated. Please use tf.compat.v1.nn.fused_batch_norm instead.\n",
      "\n",
      "Downloading data from https://storage.googleapis.com/tensorflow/keras-applications/xception/xception_weights_tf_dim_ordering_tf_kernels_notop.h5\n",
      "83683744/83683744 [==============================] - 27s 0us/step\n"
     ]
    }
   ],
   "source": [
    "model = tf.keras.applications.xception.Xception(\n",
    "    input_shape=(img_shape),\n",
    "    include_top=False,\n",
    "    weights=\"imagenet\",\n",
    ")"
   ]
  },
  {
   "cell_type": "code",
   "execution_count": 11,
   "id": "60b68ad1-d262-4c58-bfae-c9773d5c6ebf",
   "metadata": {},
   "outputs": [
    {
     "name": "stdout",
     "output_type": "stream",
     "text": [
      "Model: \"sequential\"\n",
      "_________________________________________________________________\n",
      " Layer (type)                Output Shape              Param #   \n",
      "=================================================================\n",
      " xception (Functional)       (None, 7, 7, 2048)        20861480  \n",
      "                                                                 \n",
      " global_average_pooling2d (  (None, 2048)              0         \n",
      " GlobalAveragePooling2D)                                         \n",
      "                                                                 \n",
      " dropout (Dropout)           (None, 2048)              0         \n",
      "                                                                 \n",
      " dense (Dense)               (None, 5)                 10245     \n",
      "                                                                 \n",
      "=================================================================\n",
      "Total params: 20871725 (79.62 MB)\n",
      "Trainable params: 20817197 (79.41 MB)\n",
      "Non-trainable params: 54528 (213.00 KB)\n",
      "_________________________________________________________________\n"
     ]
    }
   ],
   "source": [
    "for layer in model.layers:\n",
    "    layer.trainable = True\n",
    "\n",
    "model_ft = tf.keras.models.Sequential(\n",
    "    [\n",
    "        model,\n",
    "        tf.keras.layers.GlobalAveragePooling2D(),\n",
    "        tf.keras.layers.Dropout(0.2),\n",
    "        tf.keras.layers.Dense(5, activation=\"softmax\"),\n",
    "    ]\n",
    ")\n",
    "\n",
    "model_ft.summary()"
   ]
  },
  {
   "cell_type": "code",
   "execution_count": 12,
   "id": "96ad33fe-7ba9-48d6-b8ae-ef9957e06977",
   "metadata": {},
   "outputs": [
    {
     "name": "stdout",
     "output_type": "stream",
     "text": [
      "WARNING:tensorflow:From C:\\Users\\haris\\anaconda3\\Lib\\site-packages\\keras\\src\\optimizers\\__init__.py:309: The name tf.train.Optimizer is deprecated. Please use tf.compat.v1.train.Optimizer instead.\n",
      "\n",
      "Epoch 1/10\n",
      "WARNING:tensorflow:From C:\\Users\\haris\\anaconda3\\Lib\\site-packages\\keras\\src\\utils\\tf_utils.py:492: The name tf.ragged.RaggedTensorValue is deprecated. Please use tf.compat.v1.ragged.RaggedTensorValue instead.\n",
      "\n",
      "WARNING:tensorflow:From C:\\Users\\haris\\anaconda3\\Lib\\site-packages\\keras\\src\\engine\\base_layer_utils.py:384: The name tf.executing_eagerly_outside_functions is deprecated. Please use tf.compat.v1.executing_eagerly_outside_functions instead.\n",
      "\n",
      "181/181 [==============================] - 1521s 8s/step - loss: 1.1669 - accuracy: 0.4232 - val_loss: 3.0784 - val_accuracy: 0.3765 - lr: 0.0010\n",
      "Epoch 2/10\n",
      "181/181 [==============================] - 1416s 8s/step - loss: 0.9772 - accuracy: 0.5171 - val_loss: 1.8575 - val_accuracy: 0.3257 - lr: 0.0010\n",
      "Epoch 3/10\n",
      "181/181 [==============================] - 1426s 8s/step - loss: 0.8653 - accuracy: 0.5621 - val_loss: 1.2047 - val_accuracy: 0.4673 - lr: 0.0010\n",
      "Epoch 4/10\n",
      "181/181 [==============================] - 1387s 8s/step - loss: 0.7984 - accuracy: 0.5948 - val_loss: 1.1351 - val_accuracy: 0.5533 - lr: 0.0010\n",
      "Epoch 5/10\n",
      "181/181 [==============================] - 765s 4s/step - loss: 0.7559 - accuracy: 0.6057 - val_loss: 1.1200 - val_accuracy: 0.5351 - lr: 0.0010\n",
      "Epoch 6/10\n",
      "181/181 [==============================] - 814s 4s/step - loss: 0.7380 - accuracy: 0.6192 - val_loss: 0.9624 - val_accuracy: 0.5617 - lr: 0.0010\n",
      "Epoch 7/10\n",
      "181/181 [==============================] - 805s 4s/step - loss: 0.7190 - accuracy: 0.6222 - val_loss: 1.2127 - val_accuracy: 0.5460 - lr: 0.0010\n",
      "Epoch 8/10\n",
      "181/181 [==============================] - 837s 5s/step - loss: 0.7092 - accuracy: 0.6417 - val_loss: 1.2463 - val_accuracy: 0.4855 - lr: 0.0010\n",
      "Epoch 9/10\n",
      "181/181 [==============================] - 894s 5s/step - loss: 0.6712 - accuracy: 0.6475 - val_loss: 1.6528 - val_accuracy: 0.4201 - lr: 0.0010\n",
      "Epoch 10/10\n",
      "181/181 [==============================] - 795s 4s/step - loss: 0.6557 - accuracy: 0.6521 - val_loss: 0.9870 - val_accuracy: 0.5847 - lr: 0.0010\n"
     ]
    }
   ],
   "source": [
    "model_ft.compile(\n",
    "    optimizer=\"adam\", loss=\"categorical_crossentropy\", metrics=[\"accuracy\"]\n",
    ")\n",
    "\n",
    "start_ft = timeit.default_timer()\n",
    "\n",
    "history = model_ft.fit(\n",
    "    train_generator,\n",
    "    epochs=epochs,\n",
    "    batch_size=batch_size,\n",
    "    callbacks=[early, plateau],\n",
    "    validation_data=valid_generator,\n",
    "    class_weight=train_class_weights,\n",
    "    verbose=1,\n",
    ")\n",
    "\n",
    "stop_ft = timeit.default_timer()"
   ]
  },
  {
   "cell_type": "code",
   "execution_count": 13,
   "id": "036b0079-afd2-4fcd-a4ad-b36cd71c2953",
   "metadata": {},
   "outputs": [
    {
     "name": "stdout",
     "output_type": "stream",
     "text": [
      "Model Xception fine tuning executed in 177.75 minutes\n"
     ]
    }
   ],
   "source": [
    "execution_time_ft = (stop_ft - start_ft) / 60\n",
    "print(\n",
    "    f\"Model {model_name} fine tuning executed in {execution_time_ft:.2f} minutes\"\n",
    ")"
   ]
  },
  {
   "cell_type": "code",
   "execution_count": 14,
   "id": "ae2eb89c-d711-43ca-9699-41d062c5acd9",
   "metadata": {},
   "outputs": [
    {
     "name": "stderr",
     "output_type": "stream",
     "text": [
      "C:\\Users\\haris\\anaconda3\\Lib\\site-packages\\keras\\src\\engine\\training.py:3103: UserWarning: You are saving your model as an HDF5 file via `model.save()`. This file format is considered legacy. We recommend using instead the native Keras format, e.g. `model.save('my_model.keras')`.\n",
      "  saving_api.save_model(\n"
     ]
    }
   ],
   "source": [
    "model_ft.save(save_model_ft)"
   ]
  },
  {
   "cell_type": "code",
   "execution_count": 15,
   "id": "5ffe382f-908a-42ba-9989-5f7bffa8a3a5",
   "metadata": {},
   "outputs": [
    {
     "data": {
      "image/png": "[encoded data removed]",
      "text/plain": [
       "<Figure size 640x480 with 2 Axes>"
      ]
     },
     "metadata": {},
     "output_type": "display_data"
    }
   ],
   "source": [
    "get_plot_loss_acc(model_ft, f\"{model_name} Fine Tuning\")"
   ]
  },
  {
   "cell_type": "code",
   "execution_count": 16,
   "id": "3995376a-8fcd-4cc4-8d30-ae7d022e0982",
   "metadata": {},
   "outputs": [
    {
     "name": "stdout",
     "output_type": "stream",
     "text": [
      "26/26 [==============================] - 27s 1s/step - loss: 0.9870 - accuracy: 0.5847\n",
      "Valid loss: 0.99\n",
      "Valid accuracy: 0.58\n"
     ]
    }
   ],
   "source": [
    "get_evaluate(valid_generator, \"Valid\", model_ft)"
   ]
  },
  {
   "cell_type": "code",
   "execution_count": 18,
   "id": "68235b30-900f-4f4d-b745-8a816af4548a",
   "metadata": {},
   "outputs": [
    {
     "name": "stdout",
     "output_type": "stream",
     "text": [
      "26/26 [==============================] - 27s 999ms/step\n",
      "Accuracy Score - Xception: 0.58\n",
      "Balanced Accuracy Score - Xception: 0.54\n",
      "\n",
      "\n",
      "              precision    recall  f1-score   support\n",
      "\n",
      "           0       0.64      0.90      0.75       328\n",
      "           1       0.25      0.25      0.25       153\n",
      "           2       0.69      0.31      0.43       212\n",
      "           3       0.73      0.61      0.67       106\n",
      "           4       0.85      0.63      0.72        27\n",
      "\n",
      "    accuracy                           0.58       826\n",
      "   macro avg       0.63      0.54      0.56       826\n",
      "weighted avg       0.60      0.58      0.56       826\n",
      "\n"
     ]
    }
   ],
   "source": [
    "predict_model_ft = get_predict(valid_generator, model_ft)\n",
    "\n",
    "get_metrics(\n",
    "    valid_generator.labels,\n",
    "    y_pred=np.argmax(predict_model_ft, axis=1),\n",
    "    model_name=model_name,\n",
    ")"
   ]
  },
  {
   "cell_type": "code",
   "execution_count": 19,
   "id": "81be66ae-5b54-4f2b-9272-b9f59e6ac147",
   "metadata": {},
   "outputs": [
    {
     "data": {
      "image/png": "[encoded data removed]",
      "text/plain": [
       "<Figure size 600x500 with 2 Axes>"
      ]
     },
     "metadata": {},
     "output_type": "display_data"
    }
   ],
   "source": [
    "compute_confusion_matrix(\n",
    "    valid_generator, predict_model_ft, class_names, f\"{model_name} Fine Tuning\"\n",
    ")"
   ]
  },
  {
   "cell_type": "code",
   "execution_count": null,
   "id": "1976d10f-1482-417a-b5b9-18d98cabe8b3",
   "metadata": {},
   "outputs": [],
   "source": []
  }
 ],
 "metadata": {
  "kernelspec": {
   "display_name": "Python 3 (ipykernel)",
   "language": "python",
   "name": "python3"
  },
  "language_info": {
   "codemirror_mode": {
    "name": "ipython",
    "version": 3
   },
   "file_extension": ".py",
   "mimetype": "text/x-python",
   "name": "python",
   "nbconvert_exporter": "python",
   "pygments_lexer": "ipython3",
   "version": "3.11.7"
  }
 },
 "nbformat": 4,
 "nbformat_minor": 5
}
